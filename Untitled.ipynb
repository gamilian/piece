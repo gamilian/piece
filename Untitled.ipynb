{
 "cells": [
  {
   "cell_type": "code",
   "execution_count": 34,
   "id": "ec028307-ecd8-4965-896c-3a172ca4c780",
   "metadata": {},
   "outputs": [],
   "source": [
    "timm.list_models(pretrained=True)\n",
    "pretrained_cfg = timm.models.create_model('pit_s_distilled_224').default_cfg\n",
    "# pretrained_cfg['num_classes'] = 2\n",
    "pretrained_cfg['file'] = '/work/csl/code/piece/models/pit_s-distilled_224/model.safetensors'\n",
    "model = timm.models.create_model('pit_s_distilled_224', pretrained=True, num_classes = 2, pretrained_cfg=pretrained_cfg)"
   ]
  },
  {
   "cell_type": "code",
   "execution_count": 35,
   "id": "f747b234-6b0d-46a9-8c52-c82472ad1bc4",
   "metadata": {},
   "outputs": [],
   "source": [
    "# model.reset_classifier(2)"
   ]
  },
  {
   "cell_type": "code",
   "execution_count": 36,
   "id": "03fc7696-77f3-471d-ad00-173a38918e1d",
   "metadata": {},
   "outputs": [
    {
     "data": {
      "text/plain": [
       "(Linear(in_features=576, out_features=1000, bias=True),\n",
       " Linear(in_features=576, out_features=1000, bias=True))"
      ]
     },
     "execution_count": 36,
     "metadata": {},
     "output_type": "execute_result"
    }
   ],
   "source": [
    "model.get_classifier()"
   ]
  },
  {
   "cell_type": "code",
   "execution_count": 38,
   "id": "d26f31e1-24e9-4693-861f-37c5b9693af2",
   "metadata": {},
   "outputs": [
    {
     "data": {
      "text/plain": [
       "{'url': '',\n",
       " 'hf_hub_id': 'timm/pit_s_distilled_224.in1k',\n",
       " 'architecture': 'pit_s_distilled_224',\n",
       " 'tag': 'in1k',\n",
       " 'custom_load': False,\n",
       " 'input_size': (3, 224, 224),\n",
       " 'fixed_input_size': True,\n",
       " 'interpolation': 'bicubic',\n",
       " 'crop_pct': 0.9,\n",
       " 'crop_mode': 'center',\n",
       " 'mean': (0.485, 0.456, 0.406),\n",
       " 'std': (0.229, 0.224, 0.225),\n",
       " 'num_classes': 1000,\n",
       " 'pool_size': None,\n",
       " 'first_conv': 'patch_embed.conv',\n",
       " 'classifier': ('head', 'head_dist'),\n",
       " 'file': '/work/csl/code/piece/models/pit_s-distilled_224/model.safetensors'}"
      ]
     },
     "execution_count": 38,
     "metadata": {},
     "output_type": "execute_result"
    }
   ],
   "source": [
    "pretrained_cfg"
   ]
  },
  {
   "cell_type": "code",
   "execution_count": null,
   "id": "336d2a01-08c7-4d08-9ae5-ef4a7aefb17a",
   "metadata": {},
   "outputs": [],
   "source": []
  }
 ],
 "metadata": {
  "kernelspec": {
   "display_name": "vit",
   "language": "python",
   "name": "vit"
  },
  "language_info": {
   "codemirror_mode": {
    "name": "ipython",
    "version": 3
   },
   "file_extension": ".py",
   "mimetype": "text/x-python",
   "name": "python",
   "nbconvert_exporter": "python",
   "pygments_lexer": "ipython3",
   "version": "3.10.13"
  }
 },
 "nbformat": 4,
 "nbformat_minor": 5
}
